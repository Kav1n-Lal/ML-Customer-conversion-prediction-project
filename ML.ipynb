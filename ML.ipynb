{
 "cells": [
  {
   "cell_type": "markdown",
   "id": "516daa9a",
   "metadata": {},
   "source": [
    "## Importing the libraries"
   ]
  },
  {
   "cell_type": "code",
   "execution_count": 1,
   "id": "ddcd613c",
   "metadata": {},
   "outputs": [],
   "source": [
    "import numpy as np\n",
    "import pandas as pd\n",
    "import matplotlib.pyplot as plt\n",
    "import seaborn as sns"
   ]
  },
  {
   "cell_type": "code",
   "execution_count": 2,
   "id": "5a2a48e1",
   "metadata": {},
   "outputs": [
    {
     "data": {
      "text/html": [
       "<div>\n",
       "<style scoped>\n",
       "    .dataframe tbody tr th:only-of-type {\n",
       "        vertical-align: middle;\n",
       "    }\n",
       "\n",
       "    .dataframe tbody tr th {\n",
       "        vertical-align: top;\n",
       "    }\n",
       "\n",
       "    .dataframe thead th {\n",
       "        text-align: right;\n",
       "    }\n",
       "</style>\n",
       "<table border=\"1\" class=\"dataframe\">\n",
       "  <thead>\n",
       "    <tr style=\"text-align: right;\">\n",
       "      <th></th>\n",
       "      <th>age</th>\n",
       "      <th>job</th>\n",
       "      <th>marital</th>\n",
       "      <th>education_qual</th>\n",
       "      <th>call_type</th>\n",
       "      <th>day</th>\n",
       "      <th>mon</th>\n",
       "      <th>dur</th>\n",
       "      <th>num_calls</th>\n",
       "      <th>prev_outcome</th>\n",
       "      <th>y</th>\n",
       "    </tr>\n",
       "  </thead>\n",
       "  <tbody>\n",
       "    <tr>\n",
       "      <th>0</th>\n",
       "      <td>58</td>\n",
       "      <td>management</td>\n",
       "      <td>married</td>\n",
       "      <td>tertiary</td>\n",
       "      <td>unknown</td>\n",
       "      <td>5</td>\n",
       "      <td>may</td>\n",
       "      <td>261</td>\n",
       "      <td>1</td>\n",
       "      <td>unknown</td>\n",
       "      <td>no</td>\n",
       "    </tr>\n",
       "    <tr>\n",
       "      <th>1</th>\n",
       "      <td>44</td>\n",
       "      <td>technician</td>\n",
       "      <td>single</td>\n",
       "      <td>secondary</td>\n",
       "      <td>unknown</td>\n",
       "      <td>5</td>\n",
       "      <td>may</td>\n",
       "      <td>151</td>\n",
       "      <td>1</td>\n",
       "      <td>unknown</td>\n",
       "      <td>no</td>\n",
       "    </tr>\n",
       "    <tr>\n",
       "      <th>2</th>\n",
       "      <td>33</td>\n",
       "      <td>entrepreneur</td>\n",
       "      <td>married</td>\n",
       "      <td>secondary</td>\n",
       "      <td>unknown</td>\n",
       "      <td>5</td>\n",
       "      <td>may</td>\n",
       "      <td>76</td>\n",
       "      <td>1</td>\n",
       "      <td>unknown</td>\n",
       "      <td>no</td>\n",
       "    </tr>\n",
       "    <tr>\n",
       "      <th>3</th>\n",
       "      <td>47</td>\n",
       "      <td>blue-collar</td>\n",
       "      <td>married</td>\n",
       "      <td>unknown</td>\n",
       "      <td>unknown</td>\n",
       "      <td>5</td>\n",
       "      <td>may</td>\n",
       "      <td>92</td>\n",
       "      <td>1</td>\n",
       "      <td>unknown</td>\n",
       "      <td>no</td>\n",
       "    </tr>\n",
       "    <tr>\n",
       "      <th>4</th>\n",
       "      <td>33</td>\n",
       "      <td>unknown</td>\n",
       "      <td>single</td>\n",
       "      <td>unknown</td>\n",
       "      <td>unknown</td>\n",
       "      <td>5</td>\n",
       "      <td>may</td>\n",
       "      <td>198</td>\n",
       "      <td>1</td>\n",
       "      <td>unknown</td>\n",
       "      <td>no</td>\n",
       "    </tr>\n",
       "  </tbody>\n",
       "</table>\n",
       "</div>"
      ],
      "text/plain": [
       "   age           job  marital education_qual call_type  day  mon  dur  \\\n",
       "0   58    management  married       tertiary   unknown    5  may  261   \n",
       "1   44    technician   single      secondary   unknown    5  may  151   \n",
       "2   33  entrepreneur  married      secondary   unknown    5  may   76   \n",
       "3   47   blue-collar  married        unknown   unknown    5  may   92   \n",
       "4   33       unknown   single        unknown   unknown    5  may  198   \n",
       "\n",
       "   num_calls prev_outcome   y  \n",
       "0          1      unknown  no  \n",
       "1          1      unknown  no  \n",
       "2          1      unknown  no  \n",
       "3          1      unknown  no  \n",
       "4          1      unknown  no  "
      ]
     },
     "execution_count": 2,
     "metadata": {},
     "output_type": "execute_result"
    }
   ],
   "source": [
    "df=pd.read_csv('C:/Users/DELL/Desktop/ml_project/train.csv')\n",
    "df.head()"
   ]
  },
  {
   "cell_type": "markdown",
   "id": "c79498c3",
   "metadata": {},
   "source": [
    "### Dropping duplicate rows"
   ]
  },
  {
   "cell_type": "code",
   "execution_count": 3,
   "id": "e939d64a",
   "metadata": {},
   "outputs": [
    {
     "name": "stdout",
     "output_type": "stream",
     "text": [
      "Original dataframe length 45211\n",
      "Dataframe length after dropping duplicate rows 45205\n",
      "No of duplicate rows removed 6\n"
     ]
    }
   ],
   "source": [
    "a=len(df)\n",
    "print('Original dataframe length',a)\n",
    "df.drop_duplicates(inplace=True)\n",
    "b=len(df)\n",
    "print('Dataframe length after dropping duplicate rows',b)\n",
    "print('No of duplicate rows removed',a-b)"
   ]
  },
  {
   "cell_type": "markdown",
   "id": "c0a27421",
   "metadata": {},
   "source": [
    "### Checking for missing values in each columns"
   ]
  },
  {
   "cell_type": "code",
   "execution_count": 4,
   "id": "c1e13fe6",
   "metadata": {},
   "outputs": [
    {
     "data": {
      "text/plain": [
       "age               0\n",
       "job               0\n",
       "marital           0\n",
       "education_qual    0\n",
       "call_type         0\n",
       "day               0\n",
       "mon               0\n",
       "dur               0\n",
       "num_calls         0\n",
       "prev_outcome      0\n",
       "y                 0\n",
       "dtype: int64"
      ]
     },
     "execution_count": 4,
     "metadata": {},
     "output_type": "execute_result"
    }
   ],
   "source": [
    "df.isnull().sum()"
   ]
  },
  {
   "cell_type": "markdown",
   "id": "3b73bdd1",
   "metadata": {},
   "source": [
    "- No missing values,so no need for missing data imputation"
   ]
  },
  {
   "cell_type": "markdown",
   "id": "021d7a95",
   "metadata": {},
   "source": [
    "### No of Labels in each feature column"
   ]
  },
  {
   "cell_type": "code",
   "execution_count": 5,
   "id": "990ef956",
   "metadata": {},
   "outputs": [
    {
     "name": "stdout",
     "output_type": "stream",
     "text": [
      "CATEGORICAL VARIABLES \n",
      "\n",
      "No. of labels in job                                                        12\n",
      "['management' 'technician' 'entrepreneur' 'blue-collar' 'unknown'\n",
      " 'retired' 'admin.' 'services' 'self-employed' 'unemployed' 'housemaid'\n",
      " 'student'] \n",
      "\n",
      "No. of labels in marital                                                    3\n",
      "['married' 'single' 'divorced'] \n",
      "\n",
      "No. of labels in education_qual                                             4\n",
      "['tertiary' 'secondary' 'unknown' 'primary'] \n",
      "\n",
      "No. of labels in call_type                                                  3\n",
      "['unknown' 'cellular' 'telephone'] \n",
      "\n",
      "No. of labels in mon                                                        12\n",
      "['may' 'jun' 'jul' 'aug' 'oct' 'nov' 'dec' 'jan' 'feb' 'mar' 'apr' 'sep'] \n",
      "\n",
      "No. of labels in prev_outcome                                               4\n",
      "['unknown' 'failure' 'other' 'success'] \n",
      "\n",
      "NUMERICAL VARIABLES \n",
      "\n",
      "No. of labels in age                  77 \n",
      "\n",
      "No. of labels in day                  31 \n",
      "\n",
      "No. of labels in dur                  1573 \n",
      "\n",
      "No. of labels in num_calls            48 \n",
      "\n"
     ]
    }
   ],
   "source": [
    "print(\"CATEGORICAL VARIABLES\",'\\n')\n",
    "for column_name in ['job','marital','education_qual','call_type','mon','prev_outcome']:\n",
    "    print('No. of labels in',f\"{column_name:{58}}\",df[column_name].nunique())\n",
    "    print(df[column_name].unique(),'\\n')\n",
    "\n",
    "print('NUMERICAL VARIABLES','\\n')\n",
    "for column_name in ['age','day','dur','num_calls']:\n",
    "    print('No. of labels in',f\"{column_name:{20}}\",df[column_name].nunique(),'\\n')    "
   ]
  },
  {
   "cell_type": "code",
   "execution_count": 6,
   "id": "19dc2505",
   "metadata": {},
   "outputs": [
    {
     "data": {
      "text/plain": [
       "age                int64\n",
       "job               object\n",
       "marital           object\n",
       "education_qual    object\n",
       "call_type         object\n",
       "day                int64\n",
       "mon               object\n",
       "dur                int64\n",
       "num_calls          int64\n",
       "prev_outcome      object\n",
       "y                 object\n",
       "dtype: object"
      ]
     },
     "execution_count": 6,
     "metadata": {},
     "output_type": "execute_result"
    }
   ],
   "source": [
    "df.dtypes"
   ]
  },
  {
   "cell_type": "code",
   "execution_count": 7,
   "id": "398a38ad",
   "metadata": {},
   "outputs": [
    {
     "data": {
      "text/html": [
       "<div>\n",
       "<style scoped>\n",
       "    .dataframe tbody tr th:only-of-type {\n",
       "        vertical-align: middle;\n",
       "    }\n",
       "\n",
       "    .dataframe tbody tr th {\n",
       "        vertical-align: top;\n",
       "    }\n",
       "\n",
       "    .dataframe thead th {\n",
       "        text-align: right;\n",
       "    }\n",
       "</style>\n",
       "<table border=\"1\" class=\"dataframe\">\n",
       "  <thead>\n",
       "    <tr style=\"text-align: right;\">\n",
       "      <th></th>\n",
       "      <th>age</th>\n",
       "      <th>day</th>\n",
       "      <th>dur</th>\n",
       "      <th>num_calls</th>\n",
       "    </tr>\n",
       "  </thead>\n",
       "  <tbody>\n",
       "    <tr>\n",
       "      <th>count</th>\n",
       "      <td>45205.000000</td>\n",
       "      <td>45205.00000</td>\n",
       "      <td>45205.000000</td>\n",
       "      <td>45205.000000</td>\n",
       "    </tr>\n",
       "    <tr>\n",
       "      <th>mean</th>\n",
       "      <td>40.937087</td>\n",
       "      <td>15.80688</td>\n",
       "      <td>258.183055</td>\n",
       "      <td>2.763898</td>\n",
       "    </tr>\n",
       "    <tr>\n",
       "      <th>std</th>\n",
       "      <td>10.619130</td>\n",
       "      <td>8.32234</td>\n",
       "      <td>257.538504</td>\n",
       "      <td>3.098189</td>\n",
       "    </tr>\n",
       "    <tr>\n",
       "      <th>min</th>\n",
       "      <td>18.000000</td>\n",
       "      <td>1.00000</td>\n",
       "      <td>0.000000</td>\n",
       "      <td>1.000000</td>\n",
       "    </tr>\n",
       "    <tr>\n",
       "      <th>25%</th>\n",
       "      <td>33.000000</td>\n",
       "      <td>8.00000</td>\n",
       "      <td>103.000000</td>\n",
       "      <td>1.000000</td>\n",
       "    </tr>\n",
       "    <tr>\n",
       "      <th>50%</th>\n",
       "      <td>39.000000</td>\n",
       "      <td>16.00000</td>\n",
       "      <td>180.000000</td>\n",
       "      <td>2.000000</td>\n",
       "    </tr>\n",
       "    <tr>\n",
       "      <th>75%</th>\n",
       "      <td>48.000000</td>\n",
       "      <td>21.00000</td>\n",
       "      <td>319.000000</td>\n",
       "      <td>3.000000</td>\n",
       "    </tr>\n",
       "    <tr>\n",
       "      <th>max</th>\n",
       "      <td>95.000000</td>\n",
       "      <td>31.00000</td>\n",
       "      <td>4918.000000</td>\n",
       "      <td>63.000000</td>\n",
       "    </tr>\n",
       "  </tbody>\n",
       "</table>\n",
       "</div>"
      ],
      "text/plain": [
       "                age          day           dur     num_calls\n",
       "count  45205.000000  45205.00000  45205.000000  45205.000000\n",
       "mean      40.937087     15.80688    258.183055      2.763898\n",
       "std       10.619130      8.32234    257.538504      3.098189\n",
       "min       18.000000      1.00000      0.000000      1.000000\n",
       "25%       33.000000      8.00000    103.000000      1.000000\n",
       "50%       39.000000     16.00000    180.000000      2.000000\n",
       "75%       48.000000     21.00000    319.000000      3.000000\n",
       "max       95.000000     31.00000   4918.000000     63.000000"
      ]
     },
     "execution_count": 7,
     "metadata": {},
     "output_type": "execute_result"
    }
   ],
   "source": [
    "df.describe()"
   ]
  },
  {
   "cell_type": "code",
   "execution_count": 8,
   "id": "6a971964",
   "metadata": {},
   "outputs": [
    {
     "data": {
      "text/html": [
       "<div>\n",
       "<style scoped>\n",
       "    .dataframe tbody tr th:only-of-type {\n",
       "        vertical-align: middle;\n",
       "    }\n",
       "\n",
       "    .dataframe tbody tr th {\n",
       "        vertical-align: top;\n",
       "    }\n",
       "\n",
       "    .dataframe thead th {\n",
       "        text-align: right;\n",
       "    }\n",
       "</style>\n",
       "<table border=\"1\" class=\"dataframe\">\n",
       "  <thead>\n",
       "    <tr style=\"text-align: right;\">\n",
       "      <th></th>\n",
       "      <th>age</th>\n",
       "      <th>day</th>\n",
       "      <th>dur</th>\n",
       "      <th>num_calls</th>\n",
       "    </tr>\n",
       "  </thead>\n",
       "  <tbody>\n",
       "    <tr>\n",
       "      <th>0</th>\n",
       "      <td>58</td>\n",
       "      <td>5</td>\n",
       "      <td>261</td>\n",
       "      <td>1</td>\n",
       "    </tr>\n",
       "    <tr>\n",
       "      <th>1</th>\n",
       "      <td>44</td>\n",
       "      <td>5</td>\n",
       "      <td>151</td>\n",
       "      <td>1</td>\n",
       "    </tr>\n",
       "    <tr>\n",
       "      <th>2</th>\n",
       "      <td>33</td>\n",
       "      <td>5</td>\n",
       "      <td>76</td>\n",
       "      <td>1</td>\n",
       "    </tr>\n",
       "    <tr>\n",
       "      <th>3</th>\n",
       "      <td>47</td>\n",
       "      <td>5</td>\n",
       "      <td>92</td>\n",
       "      <td>1</td>\n",
       "    </tr>\n",
       "    <tr>\n",
       "      <th>4</th>\n",
       "      <td>33</td>\n",
       "      <td>5</td>\n",
       "      <td>198</td>\n",
       "      <td>1</td>\n",
       "    </tr>\n",
       "  </tbody>\n",
       "</table>\n",
       "</div>"
      ],
      "text/plain": [
       "   age  day  dur  num_calls\n",
       "0   58    5  261          1\n",
       "1   44    5  151          1\n",
       "2   33    5   76          1\n",
       "3   47    5   92          1\n",
       "4   33    5  198          1"
      ]
     },
     "execution_count": 8,
     "metadata": {},
     "output_type": "execute_result"
    }
   ],
   "source": [
    "#selecting only numeric columns\n",
    "df.select_dtypes(include=np.number).head()"
   ]
  },
  {
   "cell_type": "markdown",
   "id": "8d06dd70",
   "metadata": {},
   "source": [
    "### Outlier engineering for numerical variables"
   ]
  },
  {
   "cell_type": "code",
   "execution_count": 9,
   "id": "16ddd204",
   "metadata": {},
   "outputs": [],
   "source": [
    "def plots(df, variable):\n",
    "    # function takes a dataframe (df) and\n",
    "    # the variable of interest as arguments\n",
    "\n",
    "    # define figure size\n",
    "    plt.figure(figsize=(16, 4))\n",
    "\n",
    "    # histogram\n",
    "    plt.subplot(1, 2, 1)\n",
    "    sns.histplot(df[variable], bins=30)\n",
    "    plt.title('Histogram')\n",
    "\n",
    "   # boxplot\n",
    "    plt.subplot(1, 2, 2)\n",
    "    sns.boxplot(y=df[variable])\n",
    "    plt.title('Boxplot')\n",
    "    plt.show()"
   ]
  },
  {
   "cell_type": "code",
   "execution_count": 10,
   "id": "c829376e",
   "metadata": {},
   "outputs": [
    {
     "data": {
      "image/png": "[encoded data removed]",
      "text/plain": [
       "<Figure size 1152x288 with 2 Axes>"
      ]
     },
     "metadata": {
      "needs_background": "light"
     },
     "output_type": "display_data"
    },
    {
     "data": {
      "image/png": "[encoded data removed]",
      "text/plain": [
       "<Figure size 1152x288 with 2 Axes>"
      ]
     },
     "metadata": {
      "needs_background": "light"
     },
     "output_type": "display_data"
    },
    {
     "data": {
      "image/png": "[encoded data removed]",
      "text/plain": [
       "<Figure size 1152x288 with 2 Axes>"
      ]
     },
     "metadata": {
      "needs_background": "light"
     },
     "output_type": "display_data"
    },
    {
     "data": {
      "image/png": "[encoded data removed]",
      "text/plain": [
       "<Figure size 1152x288 with 2 Axes>"
      ]
     },
     "metadata": {
      "needs_background": "light"
     },
     "output_type": "display_data"
    }
   ],
   "source": [
    "plots(df, 'age')\n",
    "plots(df, 'day')\n",
    "plots(df, 'dur')\n",
    "plots(df, 'num_calls')"
   ]
  },
  {
   "cell_type": "markdown",
   "id": "f8fd7137",
   "metadata": {},
   "source": [
    "*We can see that there are more outliers on the right tail of the variables 'age','dur' and 'num_calls'.* \n",
    "- **No outlier is observed in the variable 'day'**"
   ]
  },
  {
   "cell_type": "code",
   "execution_count": 11,
   "id": "a1e24089",
   "metadata": {},
   "outputs": [],
   "source": [
    "def find_skewed_boundaries(df, variable, distance):\n",
    "\n",
    "    # Calculating the boundaries outside which sit the outliers\n",
    "    # for skewed distributions\n",
    "\n",
    "\n",
    "    IQR = df[variable].quantile(0.75) - df[variable].quantile(0.25)\n",
    "\n",
    "    lower_boundary = df[variable].quantile(0.25) - (IQR * distance)\n",
    "    upper_boundary = df[variable].quantile(0.75) + (IQR * distance)\n",
    "\n",
    "    return upper_boundary, lower_boundary"
   ]
  },
  {
   "cell_type": "code",
   "execution_count": 12,
   "id": "36e1e88c",
   "metadata": {},
   "outputs": [
    {
     "data": {
      "text/plain": [
       "(70.5, 10.5)"
      ]
     },
     "execution_count": 12,
     "metadata": {},
     "output_type": "execute_result"
    }
   ],
   "source": [
    "age_upper_limit, age_lower_limit = find_skewed_boundaries(df, 'age', 1.5)\n",
    "age_upper_limit, age_lower_limit"
   ]
  },
  {
   "cell_type": "code",
   "execution_count": 13,
   "id": "1d8d639b",
   "metadata": {},
   "outputs": [
    {
     "data": {
      "text/plain": [
       "(643.0, -221.0)"
      ]
     },
     "execution_count": 13,
     "metadata": {},
     "output_type": "execute_result"
    }
   ],
   "source": [
    "dur_upper_limit, dur_lower_limit = find_skewed_boundaries(df, 'dur', 1.5)\n",
    "dur_upper_limit, dur_lower_limit"
   ]
  },
  {
   "cell_type": "code",
   "execution_count": 14,
   "id": "62121317",
   "metadata": {
    "scrolled": true
   },
   "outputs": [
    {
     "data": {
      "text/plain": [
       "(6.0, -2.0)"
      ]
     },
     "execution_count": 14,
     "metadata": {},
     "output_type": "execute_result"
    }
   ],
   "source": [
    "num_calls_upper_limit, num_calls_lower_limit = find_skewed_boundaries(df, 'num_calls', 1.5)\n",
    "num_calls_upper_limit, num_calls_lower_limit"
   ]
  },
  {
   "cell_type": "markdown",
   "id": "04982e1f",
   "metadata": {},
   "source": [
    "### Function to replace the outliers by the maximum and minimum limit"
   ]
  },
  {
   "cell_type": "code",
   "execution_count": 15,
   "id": "46d56662",
   "metadata": {},
   "outputs": [],
   "source": [
    "def replace_outlier(dataset,variable,upper_limit,lower_limit):\n",
    "    dataset[variable]= np.where(dataset[variable] > upper_limit, upper_limit,\n",
    "                       np.where(dataset[variable] < lower_limit, lower_limit, dataset[variable]))"
   ]
  },
  {
   "cell_type": "code",
   "execution_count": 16,
   "id": "4ce2bcea",
   "metadata": {},
   "outputs": [],
   "source": [
    "replace_outlier(df,'age',age_upper_limit, age_lower_limit)\n",
    "replace_outlier(df,'dur',dur_upper_limit, dur_lower_limit)\n",
    "replace_outlier(df,'num_calls',num_calls_upper_limit, num_calls_lower_limit)\n",
    "\n"
   ]
  },
  {
   "cell_type": "markdown",
   "id": "bd803973",
   "metadata": {},
   "source": [
    "### Checking for outliers after replacing the outliers with upper and lower limit values"
   ]
  },
  {
   "cell_type": "code",
   "execution_count": 17,
   "id": "69d5d0aa",
   "metadata": {},
   "outputs": [
    {
     "data": {
      "image/png": "[encoded data removed]",
      "text/plain": [
       "<Figure size 1152x288 with 2 Axes>"
      ]
     },
     "metadata": {
      "needs_background": "light"
     },
     "output_type": "display_data"
    },
    {
     "data": {
      "image/png": "[encoded data removed]",
      "text/plain": [
       "<Figure size 1152x288 with 2 Axes>"
      ]
     },
     "metadata": {
      "needs_background": "light"
     },
     "output_type": "display_data"
    },
    {
     "data": {
      "image/png": "[encoded data removed]",
      "text/plain": [
       "<Figure size 1152x288 with 2 Axes>"
      ]
     },
     "metadata": {
      "needs_background": "light"
     },
     "output_type": "display_data"
    }
   ],
   "source": [
    "plots(df, 'age')\n",
    "plots(df, 'dur')\n",
    "plots(df, 'num_calls')"
   ]
  },
  {
   "cell_type": "markdown",
   "id": "c7b38b38",
   "metadata": {},
   "source": [
    "- All Outliers has gone,but the distributions are quite changed"
   ]
  },
  {
   "cell_type": "code",
   "execution_count": 18,
   "id": "967fc497",
   "metadata": {
    "scrolled": true
   },
   "outputs": [],
   "source": [
    "df['y']=df['y'].map({'yes':1,'no':0})\n"
   ]
  },
  {
   "cell_type": "code",
   "execution_count": 19,
   "id": "58ebf51e",
   "metadata": {},
   "outputs": [],
   "source": [
    "#Creating a new target column by copying 'y' feature in the dataset\n",
    "df = df.assign(target = df.y )"
   ]
  },
  {
   "cell_type": "markdown",
   "id": "9ce1940b",
   "metadata": {},
   "source": [
    "### Exploratory Data Analysis "
   ]
  },
  {
   "cell_type": "code",
   "execution_count": 20,
   "id": "f753a076",
   "metadata": {},
   "outputs": [
    {
     "data": {
      "image/png": "[encoded data removed]",
      "text/plain": [
       "<Figure size 432x288 with 1 Axes>"
      ]
     },
     "metadata": {
      "needs_background": "light"
     },
     "output_type": "display_data"
    },
    {
     "data": {
      "image/png": "[encoded data removed]",
      "text/plain": [
       "<Figure size 432x288 with 1 Axes>"
      ]
     },
     "metadata": {
      "needs_background": "light"
     },
     "output_type": "display_data"
    },
    {
     "data": {
      "image/png": "[encoded data removed]",
      "text/plain": [
       "<Figure size 432x288 with 1 Axes>"
      ]
     },
     "metadata": {
      "needs_background": "light"
     },
     "output_type": "display_data"
    },
    {
     "data": {
      "image/png": "[encoded data removed]",
      "text/plain": [
       "<Figure size 432x288 with 1 Axes>"
      ]
     },
     "metadata": {
      "needs_background": "light"
     },
     "output_type": "display_data"
    },
    {
     "data": {
      "image/png": "[encoded data removed]",
      "text/plain": [
       "<Figure size 432x288 with 1 Axes>"
      ]
     },
     "metadata": {
      "needs_background": "light"
     },
     "output_type": "display_data"
    },
    {
     "data": {
      "image/png": "[encoded data removed]",
      "text/plain": [
       "<Figure size 432x288 with 1 Axes>"
      ]
     },
     "metadata": {
      "needs_background": "light"
     },
     "output_type": "display_data"
    },
    {
     "data": {
      "image/png": "[encoded data removed]",
      "text/plain": [
       "<Figure size 432x288 with 1 Axes>"
      ]
     },
     "metadata": {
      "needs_background": "light"
     },
     "output_type": "display_data"
    }
   ],
   "source": [
    "total= len(df)\n",
    "# For each categorical variable\n",
    "for col in ['job','marital','education_qual','call_type','mon','prev_outcome','y']:\n",
    "\n",
    "    # Calculate the value_counts per category\n",
    "    # and divide by total observations in the dataset to fnd the percent of that\n",
    "    # particular label.\n",
    "\n",
    "    temp_df = pd.Series(df[col].value_counts() / total)\n",
    "    # Making plot with these percentages.\n",
    "    fig = temp_df.sort_values(ascending=False).plot.bar()\n",
    "    fig.set_xlabel(col)\n",
    "\n",
    "    # Adding a line at 5 % to flag the threshold for rare categories.\n",
    "    fig.axhline(y=0.05, color='red')\n",
    "    fig.set_ylabel(f'Percentage of {col}')\n",
    "    plt.show()"
   ]
  },
  {
   "cell_type": "markdown",
   "id": "236cdd6b",
   "metadata": {},
   "source": [
    "*The dependant variable('y') has imbalanced binary classes*"
   ]
  },
  {
   "cell_type": "markdown",
   "id": "cd821bf9",
   "metadata": {},
   "source": [
    "### Finding the relationship of each label in a category with the target variable"
   ]
  },
  {
   "cell_type": "code",
   "execution_count": 21,
   "id": "033181cc",
   "metadata": {
    "scrolled": false
   },
   "outputs": [
    {
     "data": {
      "image/png": "[encoded data removed]",
      "text/plain": [
       "<Figure size 432x288 with 1 Axes>"
      ]
     },
     "metadata": {
      "needs_background": "light"
     },
     "output_type": "display_data"
    },
    {
     "name": "stdout",
     "output_type": "stream",
     "text": [
      "job\n",
      "student          0.286780\n",
      "retired          0.227915\n",
      "unemployed       0.155027\n",
      "management       0.137570\n",
      "admin.           0.122050\n",
      "self-employed    0.118429\n",
      "unknown          0.118056\n",
      "technician       0.110585\n",
      "services         0.088851\n",
      "housemaid        0.087903\n",
      "entrepreneur     0.082717\n",
      "blue-collar      0.072765\n",
      "Name: y, dtype: float64 \n",
      "\n",
      "*************************************************\n"
     ]
    },
    {
     "data": {
      "image/png": "[encoded data removed]",
      "text/plain": [
       "<Figure size 432x288 with 1 Axes>"
      ]
     },
     "metadata": {
      "needs_background": "light"
     },
     "output_type": "display_data"
    },
    {
     "name": "stdout",
     "output_type": "stream",
     "text": [
      "marital\n",
      "single      0.149515\n",
      "divorced    0.119455\n",
      "married     0.101250\n",
      "Name: y, dtype: float64 \n",
      "\n",
      "*************************************************\n"
     ]
    },
    {
     "data": {
      "image/png": "[encoded data removed]",
      "text/plain": [
       "<Figure size 432x288 with 1 Axes>"
      ]
     },
     "metadata": {
      "needs_background": "light"
     },
     "output_type": "display_data"
    },
    {
     "name": "stdout",
     "output_type": "stream",
     "text": [
      "education_qual\n",
      "tertiary     0.150086\n",
      "unknown      0.135703\n",
      "secondary    0.105608\n",
      "primary      0.086277\n",
      "Name: y, dtype: float64 \n",
      "\n",
      "*************************************************\n"
     ]
    },
    {
     "data": {
      "image/png": "[encoded data removed]",
      "text/plain": [
       "<Figure size 432x288 with 1 Axes>"
      ]
     },
     "metadata": {
      "needs_background": "light"
     },
     "output_type": "display_data"
    },
    {
     "name": "stdout",
     "output_type": "stream",
     "text": [
      "call_type\n",
      "cellular     0.149204\n",
      "telephone    0.134205\n",
      "unknown      0.040716\n",
      "Name: y, dtype: float64 \n",
      "\n",
      "*************************************************\n"
     ]
    },
    {
     "data": {
      "image/png": "[encoded data removed]",
      "text/plain": [
       "<Figure size 432x288 with 1 Axes>"
      ]
     },
     "metadata": {
      "needs_background": "light"
     },
     "output_type": "display_data"
    },
    {
     "name": "stdout",
     "output_type": "stream",
     "text": [
      "mon\n",
      "mar    0.519916\n",
      "dec    0.467290\n",
      "sep    0.464594\n",
      "oct    0.437669\n",
      "apr    0.196794\n",
      "feb    0.166478\n",
      "aug    0.110168\n",
      "jun    0.102266\n",
      "nov    0.101511\n",
      "jan    0.101212\n",
      "jul    0.090949\n",
      "may    0.067199\n",
      "Name: y, dtype: float64 \n",
      "\n",
      "*************************************************\n"
     ]
    },
    {
     "data": {
      "image/png": "[encoded data removed]",
      "text/plain": [
       "<Figure size 432x288 with 1 Axes>"
      ]
     },
     "metadata": {
      "needs_background": "light"
     },
     "output_type": "display_data"
    },
    {
     "name": "stdout",
     "output_type": "stream",
     "text": [
      "prev_outcome\n",
      "success    0.647253\n",
      "other      0.166848\n",
      "failure    0.126097\n",
      "unknown    0.091630\n",
      "Name: y, dtype: float64 \n",
      "\n",
      "*************************************************\n"
     ]
    }
   ],
   "source": [
    "#a=df.groupby(['mon']).mean()\n",
    "total= len(df)\n",
    "\n",
    "# For each categorical variable\n",
    "for col1 in ['job','marital','education_qual','call_type','mon','prev_outcome']:\n",
    "    temp_df1 =df.groupby([col1]).mean()\n",
    "    temp_df1['y'].sort_values(ascending=False).plot.bar(color='green')\n",
    "    plt.show()\n",
    "    print(temp_df1['y'].sort_values(ascending=False),'\\n')\n",
    "    print('*************************************************')\n",
    "    "
   ]
  },
  {
   "cell_type": "markdown",
   "id": "55281a1d",
   "metadata": {},
   "source": [
    "### Ordinal label encoding"
   ]
  },
  {
   "cell_type": "code",
   "execution_count": 22,
   "id": "9a6c435b",
   "metadata": {},
   "outputs": [
    {
     "name": "stdout",
     "output_type": "stream",
     "text": [
      "job\n",
      "blue-collar      0.072765\n",
      "entrepreneur     0.082717\n",
      "housemaid        0.087903\n",
      "services         0.088851\n",
      "technician       0.110585\n",
      "unknown          0.118056\n",
      "self-employed    0.118429\n",
      "admin.           0.122050\n",
      "management       0.137570\n",
      "unemployed       0.155027\n",
      "retired          0.227915\n",
      "student          0.286780\n",
      "Name: y, dtype: float64 \n",
      "\n",
      "ordinal label encoding dict \n",
      " {'blue-collar': 0, 'entrepreneur': 1, 'housemaid': 2, 'services': 3, 'technician': 4, 'unknown': 5, 'self-employed': 6, 'admin.': 7, 'management': 8, 'unemployed': 9, 'retired': 10, 'student': 11} \n",
      "\n",
      "---------------------------------------------------------\n",
      "marital\n",
      "married     0.101250\n",
      "divorced    0.119455\n",
      "single      0.149515\n",
      "Name: y, dtype: float64 \n",
      "\n",
      "ordinal label encoding dict \n",
      " {'married': 0, 'divorced': 1, 'single': 2} \n",
      "\n",
      "---------------------------------------------------------\n",
      "education_qual\n",
      "primary      0.086277\n",
      "secondary    0.105608\n",
      "unknown      0.135703\n",
      "tertiary     0.150086\n",
      "Name: y, dtype: float64 \n",
      "\n",
      "ordinal label encoding dict \n",
      " {'primary': 0, 'secondary': 1, 'unknown': 2, 'tertiary': 3} \n",
      "\n",
      "---------------------------------------------------------\n",
      "call_type\n",
      "unknown      0.040716\n",
      "telephone    0.134205\n",
      "cellular     0.149204\n",
      "Name: y, dtype: float64 \n",
      "\n",
      "ordinal label encoding dict \n",
      " {'unknown': 0, 'telephone': 1, 'cellular': 2} \n",
      "\n",
      "---------------------------------------------------------\n",
      "mon\n",
      "may    0.067199\n",
      "jul    0.090949\n",
      "jan    0.101212\n",
      "nov    0.101511\n",
      "jun    0.102266\n",
      "aug    0.110168\n",
      "feb    0.166478\n",
      "apr    0.196794\n",
      "oct    0.437669\n",
      "sep    0.464594\n",
      "dec    0.467290\n",
      "mar    0.519916\n",
      "Name: y, dtype: float64 \n",
      "\n",
      "ordinal label encoding dict \n",
      " {'may': 0, 'jul': 1, 'jan': 2, 'nov': 3, 'jun': 4, 'aug': 5, 'feb': 6, 'apr': 7, 'oct': 8, 'sep': 9, 'dec': 10, 'mar': 11} \n",
      "\n",
      "---------------------------------------------------------\n",
      "prev_outcome\n",
      "unknown    0.091630\n",
      "failure    0.126097\n",
      "other      0.166848\n",
      "success    0.647253\n",
      "Name: y, dtype: float64 \n",
      "\n",
      "ordinal label encoding dict \n",
      " {'unknown': 0, 'failure': 1, 'other': 2, 'success': 3} \n",
      "\n",
      "---------------------------------------------------------\n"
     ]
    }
   ],
   "source": [
    "# For each categorical variable\n",
    "for col2 in ['job','marital','education_qual','call_type','mon','prev_outcome']:\n",
    "    temp_df2 =df.groupby([col2]).mean()\n",
    "    b=temp_df2['y'].sort_values()\n",
    "    print(b,'\\n')\n",
    "    \n",
    "    \n",
    "    labeling_dict = {\n",
    "        label: i\n",
    "        for i,label in enumerate(b.index)\n",
    "    }\n",
    "    # Mapping the dataframe using the labeling dict\n",
    "    df[col2]=df[col2].map(labeling_dict)\n",
    "    \n",
    "    print('ordinal label encoding dict','\\n',labeling_dict,'\\n')\n",
    "    print('---------------------------------------------------------')"
   ]
  },
  {
   "cell_type": "code",
   "execution_count": 23,
   "id": "3b1ea8e1",
   "metadata": {},
   "outputs": [
    {
     "data": {
      "text/html": [
       "<div>\n",
       "<style scoped>\n",
       "    .dataframe tbody tr th:only-of-type {\n",
       "        vertical-align: middle;\n",
       "    }\n",
       "\n",
       "    .dataframe tbody tr th {\n",
       "        vertical-align: top;\n",
       "    }\n",
       "\n",
       "    .dataframe thead th {\n",
       "        text-align: right;\n",
       "    }\n",
       "</style>\n",
       "<table border=\"1\" class=\"dataframe\">\n",
       "  <thead>\n",
       "    <tr style=\"text-align: right;\">\n",
       "      <th></th>\n",
       "      <th>age</th>\n",
       "      <th>job</th>\n",
       "      <th>marital</th>\n",
       "      <th>education_qual</th>\n",
       "      <th>call_type</th>\n",
       "      <th>day</th>\n",
       "      <th>mon</th>\n",
       "      <th>dur</th>\n",
       "      <th>num_calls</th>\n",
       "      <th>prev_outcome</th>\n",
       "      <th>y</th>\n",
       "      <th>target</th>\n",
       "    </tr>\n",
       "  </thead>\n",
       "  <tbody>\n",
       "    <tr>\n",
       "      <th>0</th>\n",
       "      <td>58.0</td>\n",
       "      <td>8</td>\n",
       "      <td>0</td>\n",
       "      <td>3</td>\n",
       "      <td>0</td>\n",
       "      <td>5</td>\n",
       "      <td>0</td>\n",
       "      <td>261.0</td>\n",
       "      <td>1.0</td>\n",
       "      <td>0</td>\n",
       "      <td>0</td>\n",
       "      <td>0</td>\n",
       "    </tr>\n",
       "    <tr>\n",
       "      <th>1</th>\n",
       "      <td>44.0</td>\n",
       "      <td>4</td>\n",
       "      <td>2</td>\n",
       "      <td>1</td>\n",
       "      <td>0</td>\n",
       "      <td>5</td>\n",
       "      <td>0</td>\n",
       "      <td>151.0</td>\n",
       "      <td>1.0</td>\n",
       "      <td>0</td>\n",
       "      <td>0</td>\n",
       "      <td>0</td>\n",
       "    </tr>\n",
       "    <tr>\n",
       "      <th>2</th>\n",
       "      <td>33.0</td>\n",
       "      <td>1</td>\n",
       "      <td>0</td>\n",
       "      <td>1</td>\n",
       "      <td>0</td>\n",
       "      <td>5</td>\n",
       "      <td>0</td>\n",
       "      <td>76.0</td>\n",
       "      <td>1.0</td>\n",
       "      <td>0</td>\n",
       "      <td>0</td>\n",
       "      <td>0</td>\n",
       "    </tr>\n",
       "    <tr>\n",
       "      <th>3</th>\n",
       "      <td>47.0</td>\n",
       "      <td>0</td>\n",
       "      <td>0</td>\n",
       "      <td>2</td>\n",
       "      <td>0</td>\n",
       "      <td>5</td>\n",
       "      <td>0</td>\n",
       "      <td>92.0</td>\n",
       "      <td>1.0</td>\n",
       "      <td>0</td>\n",
       "      <td>0</td>\n",
       "      <td>0</td>\n",
       "    </tr>\n",
       "    <tr>\n",
       "      <th>4</th>\n",
       "      <td>33.0</td>\n",
       "      <td>5</td>\n",
       "      <td>2</td>\n",
       "      <td>2</td>\n",
       "      <td>0</td>\n",
       "      <td>5</td>\n",
       "      <td>0</td>\n",
       "      <td>198.0</td>\n",
       "      <td>1.0</td>\n",
       "      <td>0</td>\n",
       "      <td>0</td>\n",
       "      <td>0</td>\n",
       "    </tr>\n",
       "  </tbody>\n",
       "</table>\n",
       "</div>"
      ],
      "text/plain": [
       "    age  job  marital  education_qual  call_type  day  mon    dur  num_calls  \\\n",
       "0  58.0    8        0               3          0    5    0  261.0        1.0   \n",
       "1  44.0    4        2               1          0    5    0  151.0        1.0   \n",
       "2  33.0    1        0               1          0    5    0   76.0        1.0   \n",
       "3  47.0    0        0               2          0    5    0   92.0        1.0   \n",
       "4  33.0    5        2               2          0    5    0  198.0        1.0   \n",
       "\n",
       "   prev_outcome  y  target  \n",
       "0             0  0       0  \n",
       "1             0  0       0  \n",
       "2             0  0       0  \n",
       "3             0  0       0  \n",
       "4             0  0       0  "
      ]
     },
     "execution_count": 23,
     "metadata": {},
     "output_type": "execute_result"
    }
   ],
   "source": [
    "df.head()"
   ]
  },
  {
   "cell_type": "code",
   "execution_count": 24,
   "id": "adcc651f",
   "metadata": {},
   "outputs": [
    {
     "data": {
      "text/plain": [
       "0     9730\n",
       "8     9457\n",
       "4     7596\n",
       "7     5170\n",
       "3     4153\n",
       "10    2264\n",
       "6     1579\n",
       "1     1487\n",
       "9     1303\n",
       "2     1240\n",
       "11     938\n",
       "5      288\n",
       "Name: job, dtype: int64"
      ]
     },
     "execution_count": 24,
     "metadata": {},
     "output_type": "execute_result"
    }
   ],
   "source": [
    "df['job'].value_counts()"
   ]
  },
  {
   "cell_type": "code",
   "execution_count": 25,
   "id": "9863c5a9",
   "metadata": {
    "scrolled": true
   },
   "outputs": [
    {
     "data": {
      "text/html": [
       "<div>\n",
       "<style scoped>\n",
       "    .dataframe tbody tr th:only-of-type {\n",
       "        vertical-align: middle;\n",
       "    }\n",
       "\n",
       "    .dataframe tbody tr th {\n",
       "        vertical-align: top;\n",
       "    }\n",
       "\n",
       "    .dataframe thead th {\n",
       "        text-align: right;\n",
       "    }\n",
       "</style>\n",
       "<table border=\"1\" class=\"dataframe\">\n",
       "  <thead>\n",
       "    <tr style=\"text-align: right;\">\n",
       "      <th></th>\n",
       "      <th>age</th>\n",
       "      <th>job</th>\n",
       "      <th>marital</th>\n",
       "      <th>education_qual</th>\n",
       "      <th>call_type</th>\n",
       "      <th>day</th>\n",
       "      <th>mon</th>\n",
       "      <th>dur</th>\n",
       "      <th>num_calls</th>\n",
       "      <th>prev_outcome</th>\n",
       "      <th>y</th>\n",
       "    </tr>\n",
       "  </thead>\n",
       "  <tbody>\n",
       "    <tr>\n",
       "      <th>0</th>\n",
       "      <td>58.0</td>\n",
       "      <td>8</td>\n",
       "      <td>0</td>\n",
       "      <td>3</td>\n",
       "      <td>0</td>\n",
       "      <td>5</td>\n",
       "      <td>0</td>\n",
       "      <td>261.0</td>\n",
       "      <td>1.0</td>\n",
       "      <td>0</td>\n",
       "      <td>0</td>\n",
       "    </tr>\n",
       "    <tr>\n",
       "      <th>1</th>\n",
       "      <td>44.0</td>\n",
       "      <td>4</td>\n",
       "      <td>2</td>\n",
       "      <td>1</td>\n",
       "      <td>0</td>\n",
       "      <td>5</td>\n",
       "      <td>0</td>\n",
       "      <td>151.0</td>\n",
       "      <td>1.0</td>\n",
       "      <td>0</td>\n",
       "      <td>0</td>\n",
       "    </tr>\n",
       "    <tr>\n",
       "      <th>2</th>\n",
       "      <td>33.0</td>\n",
       "      <td>1</td>\n",
       "      <td>0</td>\n",
       "      <td>1</td>\n",
       "      <td>0</td>\n",
       "      <td>5</td>\n",
       "      <td>0</td>\n",
       "      <td>76.0</td>\n",
       "      <td>1.0</td>\n",
       "      <td>0</td>\n",
       "      <td>0</td>\n",
       "    </tr>\n",
       "    <tr>\n",
       "      <th>3</th>\n",
       "      <td>47.0</td>\n",
       "      <td>0</td>\n",
       "      <td>0</td>\n",
       "      <td>2</td>\n",
       "      <td>0</td>\n",
       "      <td>5</td>\n",
       "      <td>0</td>\n",
       "      <td>92.0</td>\n",
       "      <td>1.0</td>\n",
       "      <td>0</td>\n",
       "      <td>0</td>\n",
       "    </tr>\n",
       "    <tr>\n",
       "      <th>4</th>\n",
       "      <td>33.0</td>\n",
       "      <td>5</td>\n",
       "      <td>2</td>\n",
       "      <td>2</td>\n",
       "      <td>0</td>\n",
       "      <td>5</td>\n",
       "      <td>0</td>\n",
       "      <td>198.0</td>\n",
       "      <td>1.0</td>\n",
       "      <td>0</td>\n",
       "      <td>0</td>\n",
       "    </tr>\n",
       "  </tbody>\n",
       "</table>\n",
       "</div>"
      ],
      "text/plain": [
       "    age  job  marital  education_qual  call_type  day  mon    dur  num_calls  \\\n",
       "0  58.0    8        0               3          0    5    0  261.0        1.0   \n",
       "1  44.0    4        2               1          0    5    0  151.0        1.0   \n",
       "2  33.0    1        0               1          0    5    0   76.0        1.0   \n",
       "3  47.0    0        0               2          0    5    0   92.0        1.0   \n",
       "4  33.0    5        2               2          0    5    0  198.0        1.0   \n",
       "\n",
       "   prev_outcome  y  \n",
       "0             0  0  \n",
       "1             0  0  \n",
       "2             0  0  \n",
       "3             0  0  \n",
       "4             0  0  "
      ]
     },
     "execution_count": 25,
     "metadata": {},
     "output_type": "execute_result"
    }
   ],
   "source": [
    "df1=pd.DataFrame({'age':df['age'],'job':df['job'],'marital':df['marital'],\n",
    "    'education_qual':df['education_qual'],'call_type':df['call_type'],\n",
    "    'day':df['day'],'mon':df['mon'],'dur':df['dur'],\n",
    "    'num_calls':df['num_calls'],'prev_outcome':df['prev_outcome'],'y':df['y']})\n",
    "df1.head()"
   ]
  },
  {
   "cell_type": "code",
   "execution_count": 26,
   "id": "ac6f3848",
   "metadata": {},
   "outputs": [],
   "source": [
    "# plots(df1, 'age')\n",
    "# plots(df1, 'day')\n",
    "# plots(df1, 'dur')\n",
    "# plots(df1, 'num_calls')\n",
    "# plots(df1, 'job')\n",
    "# plots(df1, 'marital')\n",
    "# plots(df1, 'education_qual')\n",
    "# plots(df1, 'call_type')\n",
    "# plots(df1, 'day')\n",
    "# plots(df1, 'mon')\n",
    "# plots(df1, 'prev_outcome')"
   ]
  },
  {
   "cell_type": "code",
   "execution_count": 27,
   "id": "65f5d2c3",
   "metadata": {},
   "outputs": [
    {
     "data": {
      "text/plain": [
       "(45205, 11)"
      ]
     },
     "execution_count": 27,
     "metadata": {},
     "output_type": "execute_result"
    }
   ],
   "source": [
    "df1.shape"
   ]
  },
  {
   "cell_type": "code",
   "execution_count": 28,
   "id": "8d8cc389",
   "metadata": {},
   "outputs": [
    {
     "data": {
      "text/plain": [
       "array([[ 58.,   8.,   0.,   3.,   0.,   5.,   0., 261.,   1.,   0.]])"
      ]
     },
     "execution_count": 28,
     "metadata": {},
     "output_type": "execute_result"
    }
   ],
   "source": [
    "X = df1.iloc[:, :-1].values\n",
    "y = df1.iloc[:, -1].values\n",
    "\n",
    "X[:1]"
   ]
  },
  {
   "cell_type": "markdown",
   "id": "13916b91",
   "metadata": {},
   "source": [
    "### Importing ML libraries"
   ]
  },
  {
   "cell_type": "code",
   "execution_count": 29,
   "id": "1ab35c7e",
   "metadata": {},
   "outputs": [],
   "source": [
    "#For balancing the dataset\n",
    "from imblearn.over_sampling import SMOTE\n",
    "from imblearn.combine import SMOTEENN, SMOTETomek\n",
    "from imblearn.under_sampling import EditedNearestNeighbours, TomekLinks\n",
    "#ML models\n",
    "from sklearn.model_selection import train_test_split\n",
    "from sklearn.linear_model import LogisticRegression\n",
    "from sklearn.neighbors import KNeighborsClassifier\n",
    "from sklearn.tree import DecisionTreeClassifier\n",
    "from sklearn.ensemble import RandomForestClassifier\n",
    "from sklearn.model_selection import GridSearchCV\n",
    "\n",
    "#Evaluation metrics\n",
    "from sklearn.metrics import (accuracy_score,roc_auc_score,confusion_matrix,\n",
    "classification_report,plot_confusion_matrix)\n",
    "\n",
    "# the scaler - for standardisation\n",
    "from sklearn.preprocessing import StandardScaler"
   ]
  },
  {
   "cell_type": "code",
   "execution_count": 30,
   "id": "002e659c",
   "metadata": {
    "scrolled": true
   },
   "outputs": [
    {
     "data": {
      "text/plain": [
       "((31643, 10), (13562, 10))"
      ]
     },
     "execution_count": 30,
     "metadata": {},
     "output_type": "execute_result"
    }
   ],
   "source": [
    "# Separating into training and testing set\n",
    "X_train, X_test, y_train, y_test = train_test_split(\n",
    "    X,  # predictors\n",
    "    y,  # target\n",
    "    test_size=0.3,  # percentage of obs in test set\n",
    "    random_state=0,\n",
    ")  # seed to ensure reproducibility\n",
    "\n",
    "X_train.shape, X_test.shape"
   ]
  },
  {
   "cell_type": "markdown",
   "id": "46e02a90",
   "metadata": {},
   "source": [
    "### Classifier function"
   ]
  },
  {
   "cell_type": "code",
   "execution_count": 31,
   "id": "4e298872",
   "metadata": {},
   "outputs": [],
   "source": [
    "def classifier(model_name,ml_model,X_train_set,y_train_set,X_test_scaled):\n",
    "    model = ml_model\n",
    "    model.fit(X_train_set,y_train_set)\n",
    "    y_pred =model.predict(X_test_scaled)\n",
    "    \n",
    "\n",
    "    print('Train set')\n",
    "    pred = model.predict_proba(X_train_set)\n",
    "    #print(pred[:5])\n",
    "    print(\n",
    "        f'{model_name}',\"roc-auc: {}\".format(roc_auc_score(y_train_set, pred[:, 1])))\n",
    "    #plot_confusion_matrix(model,X_train_set,y_train_set)\n",
    "    print('Test set')\n",
    "    pred = model.predict_proba(X_test_scaled)\n",
    "    print(\n",
    "        f'{model_name}',\"roc-auc: {}\".format(roc_auc_score(y_test, pred[:, 1])),'\\n')\n",
    "    print('accuracy_score:',accuracy_score(y_test,y_pred))\n",
    "    print('\\n')\n",
    "    print(classification_report(y_test,y_pred))\n",
    "    #plot_confusion_matrix(model,X_test_scaled,y_test)"
   ]
  },
  {
   "cell_type": "markdown",
   "id": "23fc00ba",
   "metadata": {},
   "source": [
    "#### Log model using SMOTE"
   ]
  },
  {
   "cell_type": "code",
   "execution_count": 32,
   "id": "bdeaf1f5",
   "metadata": {},
   "outputs": [],
   "source": [
    "sm = SMOTE(\n",
    "    sampling_strategy='auto', # samples only the minority class\n",
    "    random_state=0,  # for reproducibility\n",
    "    k_neighbors=5\n",
    "    )\n",
    "    \n",
    "\n",
    "X_train_sm, y_train_sm = sm.fit_resample(X_train, y_train)"
   ]
  },
  {
   "cell_type": "code",
   "execution_count": 33,
   "id": "aebbb4cc",
   "metadata": {},
   "outputs": [],
   "source": [
    "# standardisation: with the StandardScaler from sklearn\n",
    "# set up the scaler\n",
    "scaler_sm = StandardScaler()\n",
    "\n",
    "# fit the scaler to the train set, to learn the parameters\n",
    "X_train_sm=scaler_sm.fit_transform(X_train_sm)\n",
    "X_test_sm= scaler_sm.transform(X_test)\n",
    "\n"
   ]
  },
  {
   "cell_type": "code",
   "execution_count": 34,
   "id": "965d9b04",
   "metadata": {
    "scrolled": true
   },
   "outputs": [
    {
     "name": "stdout",
     "output_type": "stream",
     "text": [
      "Train set\n",
      "logistic_regression_smote roc-auc: 0.9000549111419225\n",
      "Test set\n",
      "logistic_regression_smote roc-auc: 0.8918754283564398 \n",
      "\n",
      "accuracy_score: 0.8145553753133756\n",
      "\n",
      "\n",
      "              precision    recall  f1-score   support\n",
      "\n",
      "           0       0.97      0.81      0.89     11975\n",
      "           1       0.37      0.82      0.51      1587\n",
      "\n",
      "    accuracy                           0.81     13562\n",
      "   macro avg       0.67      0.82      0.70     13562\n",
      "weighted avg       0.90      0.81      0.84     13562\n",
      "\n"
     ]
    }
   ],
   "source": [
    "classifier('logistic_regression_smote',LogisticRegression(random_state=23),X_train_sm,y_train_sm,X_test_sm)"
   ]
  },
  {
   "cell_type": "markdown",
   "id": "bae53d33",
   "metadata": {},
   "source": [
    "#### Log model using SMOTEENN"
   ]
  },
  {
   "cell_type": "code",
   "execution_count": 35,
   "id": "0228aa8f",
   "metadata": {},
   "outputs": [],
   "source": [
    "#need ENN  as argument of SMOTEENN\n",
    "enn = EditedNearestNeighbours(\n",
    "    sampling_strategy='auto',\n",
    "    n_neighbors=3,\n",
    "    kind_sel='all',\n",
    "    )\n",
    "\n",
    "\n",
    "smenn = SMOTEENN(\n",
    "    sampling_strategy='auto',  # samples only the minority class\n",
    "    random_state=0,  # for reproducibility\n",
    "    smote=sm,\n",
    "    enn=enn,\n",
    "    \n",
    ")\n",
    "\n",
    "X_train_smenn, y_train_smenn = smenn.fit_resample(X_train, y_train)"
   ]
  },
  {
   "cell_type": "code",
   "execution_count": 36,
   "id": "17594e5e",
   "metadata": {},
   "outputs": [],
   "source": [
    "# standardisation: with the StandardScaler from sklearn\n",
    "\n",
    "# set up the scaler\n",
    "scaler_smenn = StandardScaler()\n",
    "# fit the scaler to the train set, to will learn the parameters\n",
    "X_train_smenn=scaler_smenn.fit_transform(X_train_smenn)\n",
    "\n",
    "\n",
    "X_test_smenn= scaler_smenn.transform(X_test)\n",
    "\n"
   ]
  },
  {
   "cell_type": "code",
   "execution_count": 37,
   "id": "19f10aed",
   "metadata": {},
   "outputs": [
    {
     "name": "stdout",
     "output_type": "stream",
     "text": [
      "Train set\n",
      "logistic_regression_smotenn roc-auc: 0.903294030033496\n",
      "Test set\n",
      "logistic_regression_smotenn roc-auc: 0.8920087664255375 \n",
      "\n",
      "accuracy_score: 0.8192007078601976\n",
      "\n",
      "\n",
      "              precision    recall  f1-score   support\n",
      "\n",
      "           0       0.97      0.82      0.89     11975\n",
      "           1       0.37      0.81      0.51      1587\n",
      "\n",
      "    accuracy                           0.82     13562\n",
      "   macro avg       0.67      0.82      0.70     13562\n",
      "weighted avg       0.90      0.82      0.84     13562\n",
      "\n"
     ]
    }
   ],
   "source": [
    "classifier('logistic_regression_smotenn',LogisticRegression(max_iter=700,random_state=23),X_train_smenn,y_train_smenn,X_test_smenn)"
   ]
  },
  {
   "cell_type": "markdown",
   "id": "1d1bf822",
   "metadata": {},
   "source": [
    "#### Log model using SMOTETOMEK"
   ]
  },
  {
   "cell_type": "code",
   "execution_count": 38,
   "id": "f58927b4",
   "metadata": {},
   "outputs": [],
   "source": [
    "# need tomek as argument of SMOTETomek\n",
    "tl = TomekLinks(\n",
    "    sampling_strategy='all')\n",
    "\n",
    "smtomek = SMOTETomek(\n",
    "    sampling_strategy='auto',  # samples only the minority class\n",
    "    random_state=0,  # for reproducibility\n",
    "    smote=sm,\n",
    "    tomek=tl,\n",
    "    \n",
    ")\n",
    "\n",
    "X_train_smtl, y_train_smtl = smtomek.fit_resample(X_train, y_train)"
   ]
  },
  {
   "cell_type": "code",
   "execution_count": 39,
   "id": "735c14ef",
   "metadata": {},
   "outputs": [],
   "source": [
    "# standardisation: with the StandardScaler from sklearn\n",
    "\n",
    "# set up the scaler\n",
    "scaler_smtl = StandardScaler()\n",
    "\n",
    "# fit the scaler to the train set, it will learn the parameters\n",
    "X_train_smtl=scaler_smtl.fit_transform(X_train_smtl)\n",
    "#X_train_smenn=scaler.fit_transform(X_train_smenn)\n",
    "#X_train_smtl=scaler.fit_transform(X_train_smtl)\n",
    "# transform train and test sets\n",
    "\n",
    "X_test_smtl= scaler_smtl.transform(X_test)\n",
    "\n"
   ]
  },
  {
   "cell_type": "code",
   "execution_count": 40,
   "id": "3153e247",
   "metadata": {},
   "outputs": [
    {
     "name": "stdout",
     "output_type": "stream",
     "text": [
      "Train set\n",
      "logistic_regression_smotetomek roc-auc: 0.9012288124242476\n",
      "Test set\n",
      "logistic_regression_smotetomek roc-auc: 0.8919040007998179 \n",
      "\n",
      "accuracy_score: 0.8144816398761244\n",
      "\n",
      "\n",
      "              precision    recall  f1-score   support\n",
      "\n",
      "           0       0.97      0.81      0.89     11975\n",
      "           1       0.37      0.82      0.51      1587\n",
      "\n",
      "    accuracy                           0.81     13562\n",
      "   macro avg       0.67      0.82      0.70     13562\n",
      "weighted avg       0.90      0.81      0.84     13562\n",
      "\n"
     ]
    }
   ],
   "source": [
    "classifier('logistic_regression_smotetomek',LogisticRegression(max_iter=500,random_state=23),X_train_smtl,y_train_smtl,X_test_smtl)"
   ]
  },
  {
   "cell_type": "markdown",
   "id": "850279f3",
   "metadata": {},
   "source": [
    "#### Decision trees"
   ]
  },
  {
   "cell_type": "code",
   "execution_count": 41,
   "id": "c213cbc4",
   "metadata": {},
   "outputs": [
    {
     "name": "stdout",
     "output_type": "stream",
     "text": [
      "Train set\n",
      "Decision_tree_classifier_smote roc-auc: 0.9999999974381948\n",
      "Test set\n",
      "Decision_tree_classifier_smote roc-auc: 0.6837214160460843 \n",
      "\n",
      "accuracy_score: 0.8671287420734405\n",
      "\n",
      "\n",
      "              precision    recall  f1-score   support\n",
      "\n",
      "           0       0.93      0.92      0.92     11975\n",
      "           1       0.43      0.44      0.44      1587\n",
      "\n",
      "    accuracy                           0.87     13562\n",
      "   macro avg       0.68      0.68      0.68     13562\n",
      "weighted avg       0.87      0.87      0.87     13562\n",
      "\n"
     ]
    }
   ],
   "source": [
    "classifier('Decision_tree_classifier_smote',DecisionTreeClassifier(criterion = 'entropy', random_state = 23),X_train_sm,y_train_sm,X_test_sm)"
   ]
  },
  {
   "cell_type": "markdown",
   "id": "6de3f1de",
   "metadata": {},
   "source": [
    "#### Decision trees using SMOTE"
   ]
  },
  {
   "cell_type": "code",
   "execution_count": 42,
   "id": "083de2f7",
   "metadata": {},
   "outputs": [
    {
     "name": "stdout",
     "output_type": "stream",
     "text": [
      "0.9418203160692606\n",
      "{'criterion': 'gini', 'max_depth': 7, 'max_features': 5}\n"
     ]
    }
   ],
   "source": [
    "decision_tree_sm=DecisionTreeClassifier(random_state=23)\n",
    "parameters_sm = {'criterion': ['gini', 'entropy'], 'max_depth': [2,3,5,6,7],\n",
    "                'max_features':[2,3,4,5]}\n",
    "               \n",
    "grid_dtree_sm = GridSearchCV(estimator = decision_tree_sm,\n",
    "                            param_grid = parameters_sm,\n",
    "                            scoring = 'roc_auc',\n",
    "                            cv = 10,\n",
    "                            )\n",
    "grid_dtree_sm.fit(X_train_sm, y_train_sm)\n",
    "print(grid_dtree_sm.best_score_)\n",
    "print(grid_dtree_sm.best_params_)\n"
   ]
  },
  {
   "cell_type": "code",
   "execution_count": 43,
   "id": "05718214",
   "metadata": {},
   "outputs": [
    {
     "name": "stdout",
     "output_type": "stream",
     "text": [
      "accuracy_score:  0.8416162807845451\n",
      "Train set \n",
      " Decision_tree_classifier_smote roc-auc: 0.9420646419002807\n",
      "Test set \n",
      " Decision_tree_classifier_smote roc-auc: 0.8607496451465653 \n",
      "\n",
      "              precision    recall  f1-score   support\n",
      "\n",
      "           0       0.95      0.87      0.91     11975\n",
      "           1       0.39      0.64      0.49      1587\n",
      "\n",
      "    accuracy                           0.84     13562\n",
      "   macro avg       0.67      0.75      0.70     13562\n",
      "weighted avg       0.88      0.84      0.86     13562\n",
      "\n"
     ]
    }
   ],
   "source": [
    "y_pred= grid_dtree_sm.predict(X_test_sm)\n",
    "print('accuracy_score: ',accuracy_score(y_test,y_pred))\n",
    "pred = grid_dtree_sm.predict_proba(X_train_sm)\n",
    "print('Train set','\\n',\n",
    "    'Decision_tree_classifier_smote roc-auc: {}'.format(roc_auc_score(y_train_sm, pred[:, 1])))\n",
    "\n",
    "\n",
    "pred = grid_dtree_sm.predict_proba(X_test_sm)\n",
    "print('Test set','\\n',\n",
    "    'Decision_tree_classifier_smote roc-auc: {}'.format(roc_auc_score(y_test, pred[:, 1])),'\\n')\n",
    "print(classification_report(y_test,y_pred))"
   ]
  },
  {
   "cell_type": "markdown",
   "id": "18c114f2",
   "metadata": {},
   "source": [
    "#### Decision trees using SMOTEENN"
   ]
  },
  {
   "cell_type": "code",
   "execution_count": 44,
   "id": "a076fec1",
   "metadata": {},
   "outputs": [
    {
     "name": "stdout",
     "output_type": "stream",
     "text": [
      "0.9395169054893087\n",
      "{'criterion': 'gini', 'max_depth': 7, 'max_features': 5}\n"
     ]
    }
   ],
   "source": [
    "decision_tree_smenn=DecisionTreeClassifier(random_state=23)\n",
    "parameters_smenn = {'criterion': ['gini', 'entropy'], 'max_depth': [2,3,5,6,7],\n",
    "                'max_features':[2,3,4,5]}\n",
    "               \n",
    "grid_dtree_smenn = GridSearchCV(estimator = decision_tree_smenn,\n",
    "                            param_grid = parameters_smenn,\n",
    "                            scoring = 'roc_auc',\n",
    "                            cv = 10,\n",
    "                            )\n",
    "grid_dtree_smenn.fit(X_train_smenn, y_train_smenn)\n",
    "print(grid_dtree_smenn.best_score_)\n",
    "print(grid_dtree_smenn.best_params_)\n"
   ]
  },
  {
   "cell_type": "code",
   "execution_count": 45,
   "id": "49b853f8",
   "metadata": {},
   "outputs": [
    {
     "name": "stdout",
     "output_type": "stream",
     "text": [
      "accuracy_score:  0.8579855478542988\n",
      "Train set \n",
      " Decision_tree_classifier_smoteenn roc-auc: 0.951905351570551\n",
      "Test set \n",
      " Decision_tree_classifier_smoteenn roc-auc: 0.8555410939351962 \n",
      "\n",
      "              precision    recall  f1-score   support\n",
      "\n",
      "           0       0.94      0.89      0.92     11975\n",
      "           1       0.42      0.60      0.50      1587\n",
      "\n",
      "    accuracy                           0.86     13562\n",
      "   macro avg       0.68      0.74      0.71     13562\n",
      "weighted avg       0.88      0.86      0.87     13562\n",
      "\n"
     ]
    }
   ],
   "source": [
    "y_pred= grid_dtree_smenn.predict(X_test_smenn)\n",
    "print('accuracy_score: ',accuracy_score(y_test,y_pred))\n",
    "pred = grid_dtree_smenn.predict_proba(X_train_smenn)\n",
    "print('Train set','\\n',\n",
    "    'Decision_tree_classifier_smoteenn roc-auc: {}'.format(roc_auc_score(y_train_smenn, pred[:, 1])))\n",
    "\n",
    "\n",
    "pred = grid_dtree_smenn.predict_proba(X_test_smenn)\n",
    "print('Test set','\\n',\n",
    "    'Decision_tree_classifier_smoteenn roc-auc: {}'.format(roc_auc_score(y_test, pred[:, 1])),'\\n')\n",
    "\n",
    "print(classification_report(y_test,y_pred))"
   ]
  },
  {
   "cell_type": "markdown",
   "id": "3bbcaa1b",
   "metadata": {},
   "source": [
    "#### Decision trees using SMOTETOMEK"
   ]
  },
  {
   "cell_type": "code",
   "execution_count": 46,
   "id": "fb6a1afc",
   "metadata": {},
   "outputs": [
    {
     "name": "stdout",
     "output_type": "stream",
     "text": [
      "0.9440580027096678\n",
      "{'criterion': 'entropy', 'max_depth': 7, 'max_features': 5}\n"
     ]
    }
   ],
   "source": [
    "decision_tree_smtl=DecisionTreeClassifier(random_state=23)\n",
    "parameters_smtl = {'criterion': ['gini', 'entropy'], 'max_depth': [2,3,5,6,7],\n",
    "                'max_features':[2,3,4,5]}\n",
    "               \n",
    "grid_dtree_smtl = GridSearchCV(estimator = decision_tree_smtl,\n",
    "                            param_grid = parameters_smtl,\n",
    "                            scoring = 'roc_auc',\n",
    "                            cv = 10,\n",
    "                            )\n",
    "grid_dtree_smtl.fit(X_train_smtl, y_train_smtl)\n",
    "print(grid_dtree_smtl.best_score_)\n",
    "print(grid_dtree_smtl.best_params_)\n"
   ]
  },
  {
   "cell_type": "code",
   "execution_count": 47,
   "id": "f5276c98",
   "metadata": {},
   "outputs": [
    {
     "name": "stdout",
     "output_type": "stream",
     "text": [
      "accuracy_score:  0.8383719215454948\n",
      "Train set \n",
      " Decision_tree_classifier_smoteTOMEK roc-auc: 0.9508898826246925\n",
      "Test set \n",
      " Decision_tree_classifier_smoteTOMEK roc-auc: 0.8462955669301593 \n",
      "\n",
      "              precision    recall  f1-score   support\n",
      "\n",
      "           0       0.95      0.87      0.90     11975\n",
      "           1       0.38      0.62      0.47      1587\n",
      "\n",
      "    accuracy                           0.84     13562\n",
      "   macro avg       0.66      0.75      0.69     13562\n",
      "weighted avg       0.88      0.84      0.85     13562\n",
      "\n"
     ]
    }
   ],
   "source": [
    "y_pred= grid_dtree_smtl.predict(X_test_smtl)\n",
    "print('accuracy_score: ',accuracy_score(y_test,y_pred))\n",
    "pred = grid_dtree_smtl.predict_proba(X_train_smtl)\n",
    "print('Train set','\\n',\n",
    "    'Decision_tree_classifier_smoteTOMEK roc-auc: {}'.format(roc_auc_score(y_train_smtl, pred[:, 1])))\n",
    "\n",
    "\n",
    "pred = grid_dtree_smtl.predict_proba(X_test_smtl)\n",
    "print('Test set','\\n',\n",
    "    'Decision_tree_classifier_smoteTOMEK roc-auc: {}'.format(roc_auc_score(y_test, pred[:, 1])),'\\n')\n",
    "print(classification_report(y_test,y_pred))"
   ]
  },
  {
   "cell_type": "markdown",
   "id": "84999fed",
   "metadata": {},
   "source": [
    "#### Random forest classifier using SMOTE"
   ]
  },
  {
   "cell_type": "code",
   "execution_count": 48,
   "id": "5648104e",
   "metadata": {},
   "outputs": [],
   "source": [
    "rf_sm=RandomForestClassifier(random_state=23)\n",
    "n_estimators=[34,35]\n",
    "max_features= [4,5]\n",
    "max_depth= [3,4,5]\n",
    "bootstrap = [False]\n",
    "oob_score = [False]\n",
    "param_grid_rf = {'n_estimators':n_estimators,\n",
    "                 'max_depth':max_depth,\n",
    "             'max_features':max_features,\n",
    "             'bootstrap':bootstrap,\n",
    "             'oob_score':oob_score} \n",
    "\n",
    "grid_rf_sm = GridSearchCV(estimator = rf_sm,\n",
    "                            param_grid = param_grid_rf,\n",
    "                            scoring = 'roc_auc',\n",
    "                            cv = 5,\n",
    "                            )"
   ]
  },
  {
   "cell_type": "code",
   "execution_count": 49,
   "id": "61d531e0",
   "metadata": {},
   "outputs": [
    {
     "name": "stdout",
     "output_type": "stream",
     "text": [
      "0.9538824540765829\n",
      "{'bootstrap': False, 'max_depth': 5, 'max_features': 4, 'n_estimators': 35, 'oob_score': False}\n"
     ]
    }
   ],
   "source": [
    "grid_rf_sm.fit(X_train_sm, y_train_sm)\n",
    "print(grid_rf_sm.best_score_)\n",
    "print(grid_rf_sm.best_params_)\n"
   ]
  },
  {
   "cell_type": "code",
   "execution_count": 50,
   "id": "aae044b3",
   "metadata": {},
   "outputs": [
    {
     "name": "stdout",
     "output_type": "stream",
     "text": [
      "accuracy_score:  0.8414688099100428\n",
      "Train set \n",
      " Random_forest_classifier_smote roc-auc: 0.9563527710350815\n",
      "Test set \n",
      " Random_forest_classifier_smote roc-auc: 0.8934075532806348 \n",
      "\n",
      "              precision    recall  f1-score   support\n",
      "\n",
      "           0       0.97      0.85      0.90     11975\n",
      "           1       0.41      0.78      0.54      1587\n",
      "\n",
      "    accuracy                           0.84     13562\n",
      "   macro avg       0.69      0.81      0.72     13562\n",
      "weighted avg       0.90      0.84      0.86     13562\n",
      "\n"
     ]
    }
   ],
   "source": [
    "y_pred= grid_rf_sm.predict(X_test_sm)\n",
    "print('accuracy_score: ',accuracy_score(y_test,y_pred))\n",
    "pred = grid_rf_sm.predict_proba(X_train_sm)\n",
    "print('Train set','\\n',\n",
    "    'Random_forest_classifier_smote roc-auc: {}'.format(roc_auc_score(y_train_sm, pred[:, 1])))\n",
    "\n",
    "\n",
    "pred = grid_rf_sm.predict_proba(X_test_sm)\n",
    "print('Test set','\\n',\n",
    "    'Random_forest_classifier_smote roc-auc: {}'.format(roc_auc_score(y_test, pred[:, 1])),'\\n')\n",
    "print(classification_report(y_test,y_pred))"
   ]
  },
  {
   "cell_type": "markdown",
   "id": "e76cd84b",
   "metadata": {},
   "source": [
    "#### Random forest classifier using SMOTEENN"
   ]
  },
  {
   "cell_type": "code",
   "execution_count": 51,
   "id": "ce3a578f",
   "metadata": {},
   "outputs": [
    {
     "name": "stdout",
     "output_type": "stream",
     "text": [
      "0.95586308072834\n",
      "{'bootstrap': False, 'max_depth': 5, 'max_features': 4, 'n_estimators': 35, 'oob_score': False}\n"
     ]
    }
   ],
   "source": [
    "grid_rf_sm.fit(X_train_smenn, y_train_smenn)\n",
    "print(grid_rf_sm.best_score_)\n",
    "print(grid_rf_sm.best_params_)"
   ]
  },
  {
   "cell_type": "code",
   "execution_count": 52,
   "id": "6bea34d1",
   "metadata": {},
   "outputs": [
    {
     "name": "stdout",
     "output_type": "stream",
     "text": [
      "accuracy_score:  0.8399203657277687\n",
      "Train set \n",
      " Random_forest_classifier_smoteenn roc-auc: 0.957163493068701\n",
      "Test set \n",
      " Random_forest_classifier_smoteenn roc-auc: 0.8926963204428466 \n",
      "\n",
      "              precision    recall  f1-score   support\n",
      "\n",
      "           0       0.97      0.85      0.90     11975\n",
      "           1       0.40      0.77      0.53      1587\n",
      "\n",
      "    accuracy                           0.84     13562\n",
      "   macro avg       0.68      0.81      0.72     13562\n",
      "weighted avg       0.90      0.84      0.86     13562\n",
      "\n"
     ]
    }
   ],
   "source": [
    "y_pred= grid_rf_sm.predict(X_test_smenn)\n",
    "print('accuracy_score: ',accuracy_score(y_test,y_pred))\n",
    "pred = grid_rf_sm.predict_proba(X_train_smenn)\n",
    "print('Train set','\\n',\n",
    "    'Random_forest_classifier_smoteenn roc-auc: {}'.format(roc_auc_score(y_train_smenn, pred[:, 1])))\n",
    "\n",
    "\n",
    "pred = grid_rf_sm.predict_proba(X_test_smenn)\n",
    "print('Test set','\\n',\n",
    "    'Random_forest_classifier_smoteenn roc-auc: {}'.format(roc_auc_score(y_test, pred[:, 1])),'\\n')\n",
    "print(classification_report(y_test,y_pred))"
   ]
  },
  {
   "cell_type": "markdown",
   "id": "4a8e61f8",
   "metadata": {},
   "source": [
    "#### Random forest classifier using SMOTETOMEK"
   ]
  },
  {
   "cell_type": "code",
   "execution_count": 53,
   "id": "ce6e102e",
   "metadata": {},
   "outputs": [
    {
     "name": "stdout",
     "output_type": "stream",
     "text": [
      "0.9544606517038874\n",
      "{'bootstrap': False, 'max_depth': 5, 'max_features': 4, 'n_estimators': 35, 'oob_score': False}\n"
     ]
    }
   ],
   "source": [
    "grid_rf_sm.fit(X_train_smtl, y_train_smtl)\n",
    "print(grid_rf_sm.best_score_)\n",
    "print(grid_rf_sm.best_params_)"
   ]
  },
  {
   "cell_type": "code",
   "execution_count": 54,
   "id": "bcd471ef",
   "metadata": {},
   "outputs": [
    {
     "name": "stdout",
     "output_type": "stream",
     "text": [
      "accuracy_score:  0.8411738681610382\n",
      "Train set \n",
      " Random_forest_classifier_smoteTOMEK roc-auc: 0.9567728581109187\n",
      "Test set \n",
      " Random_forest_classifier_smoteTOMEK roc-auc: 0.8932224901436909 \n",
      "\n",
      "              precision    recall  f1-score   support\n",
      "\n",
      "           0       0.97      0.85      0.90     11975\n",
      "           1       0.41      0.79      0.54      1587\n",
      "\n",
      "    accuracy                           0.84     13562\n",
      "   macro avg       0.69      0.82      0.72     13562\n",
      "weighted avg       0.90      0.84      0.86     13562\n",
      "\n"
     ]
    }
   ],
   "source": [
    "y_pred= grid_rf_sm.predict(X_test_smtl)\n",
    "print('accuracy_score: ',accuracy_score(y_test,y_pred))\n",
    "pred = grid_rf_sm.predict_proba(X_train_smtl)\n",
    "print('Train set','\\n',\n",
    "    'Random_forest_classifier_smoteTOMEK roc-auc: {}'.format(roc_auc_score(y_train_smtl, pred[:, 1])))\n",
    "\n",
    "\n",
    "pred = grid_rf_sm.predict_proba(X_test_smtl)\n",
    "print('Test set','\\n',\n",
    "    'Random_forest_classifier_smoteTOMEK roc-auc: {}'.format(roc_auc_score(y_test, pred[:, 1])),'\\n')\n",
    "print(classification_report(y_test,y_pred))"
   ]
  },
  {
   "cell_type": "markdown",
   "id": "28218165",
   "metadata": {},
   "source": [
    "### Bagging,Boosting Classifiers "
   ]
  },
  {
   "cell_type": "code",
   "execution_count": 55,
   "id": "5a58a219",
   "metadata": {},
   "outputs": [],
   "source": [
    "#from collections import Counter\n",
    "from sklearn.ensemble import (\n",
    "    RandomForestClassifier,#using imbalanced dataset\n",
    "    BaggingClassifier,#using imbalanced dataset\n",
    "    AdaBoostClassifier,#using imbalanced dataset\n",
    ")\n",
    "\n",
    "from imblearn.over_sampling import SMOTE\n",
    "\n",
    "from imblearn.ensemble import (\n",
    "    BalancedBaggingClassifier,#Resamples dataset and builds bagging model\n",
    "    BalancedRandomForestClassifier,#Resamples dataset and builds random forest model\n",
    "    EasyEnsembleClassifier,#Resamples dataset and builds bagging+boosting model\n",
    ")"
   ]
  },
  {
   "cell_type": "code",
   "execution_count": 56,
   "id": "54aad047",
   "metadata": {},
   "outputs": [],
   "source": [
    "# just re-sampling methods (no classifier)\n",
    "\n",
    "resampling_dict = {\n",
    "\n",
    "    'smote': SMOTE(\n",
    "        sampling_strategy='auto',\n",
    "        random_state=0,\n",
    "        k_neighbors=5,\n",
    "        \n",
    "    ),\n",
    "}"
   ]
  },
  {
   "cell_type": "code",
   "execution_count": 57,
   "id": "7292591c",
   "metadata": {},
   "outputs": [],
   "source": [
    "# ensemble methods (with or without resampling)\n",
    "\n",
    "ensemble_dict = {\n",
    "\n",
    "    # balanced random forests (bagging)\n",
    "    'balancedRF': BalancedRandomForestClassifier(\n",
    "        n_estimators=20,\n",
    "        criterion='gini',\n",
    "        max_depth=3,\n",
    "        sampling_strategy='auto',\n",
    "        n_jobs=4,\n",
    "        random_state=2909,\n",
    "    ),\n",
    "\n",
    "    # bagging of Logistic regression, no resampling\n",
    "    'bagging': BaggingClassifier(\n",
    "        base_estimator=LogisticRegression(random_state=2909),\n",
    "        n_estimators=20,\n",
    "        n_jobs=4,\n",
    "        random_state=2909,\n",
    "    ),\n",
    "\n",
    "    # bagging of Logistic regression, with resampling\n",
    "    'balancedbagging': BalancedBaggingClassifier(\n",
    "        base_estimator=LogisticRegression(random_state=2909),\n",
    "        n_estimators=20,\n",
    "        max_samples=1.0,  # The number of samples to draw from X to train each base estimator\n",
    "        max_features=1.0,  # The number of features to draw from X to train each base estimator\n",
    "        bootstrap=True,\n",
    "        bootstrap_features=False,\n",
    "        sampling_strategy='auto',\n",
    "        n_jobs=4,\n",
    "        random_state=2909,\n",
    "    ),\n",
    "\n",
    "    # bagging + boosting + under-sammpling\n",
    "    'easyEnsemble': EasyEnsembleClassifier(\n",
    "        n_estimators=20,\n",
    "        sampling_strategy='auto',\n",
    "        n_jobs=4,\n",
    "        random_state=2909,\n",
    "    ),\n",
    "}"
   ]
  },
  {
   "cell_type": "code",
   "execution_count": 58,
   "id": "9e6f01a5",
   "metadata": {},
   "outputs": [],
   "source": [
    "# function to train random forests and evaluate the performance\n",
    "\n",
    "def run_randomForests(X_train, X_test, y_train, y_test):\n",
    "\n",
    "    rf = RandomForestClassifier(\n",
    "        n_estimators=20, random_state=39, max_depth=2, n_jobs=4)\n",
    "    rf.fit(X_train, y_train)\n",
    "\n",
    "    print('Train set')\n",
    "    pred = rf.predict_proba(X_train)\n",
    "    print(\n",
    "        'Random Forests roc-auc: {}'.format(roc_auc_score(y_train, pred[:, 1])))\n",
    "\n",
    "    print('Test set')\n",
    "    pred = rf.predict_proba(X_test)\n",
    "   \n",
    "    print(\n",
    "        'Random Forests roc-auc: {}'.format(roc_auc_score(y_test,pred[:, 1])))\n",
    "   \n",
    "    y_pred=rf.predict(X_test)\n",
    "    print('accuracy_score: ',accuracy_score(y_test,y_pred))\n",
    "    return roc_auc_score(y_test, pred[:, 1])"
   ]
  },
  {
   "cell_type": "code",
   "execution_count": 59,
   "id": "e5177920",
   "metadata": {},
   "outputs": [],
   "source": [
    "# function to train random forests and evaluate the performance\n",
    "\n",
    "def run_adaboost(X_train, X_test, y_train, y_test):\n",
    "\n",
    "    ada = AdaBoostClassifier(n_estimators=20, random_state=2909)\n",
    "    \n",
    "    ada.fit(X_train, y_train)\n",
    "\n",
    "    print('Train set')\n",
    "    pred = ada.predict_proba(X_train)\n",
    "    print(\n",
    "        'AdaBoost roc-auc: {}'.format(roc_auc_score(y_train, pred[:, 1])))\n",
    "\n",
    "    print('Test set')\n",
    "    pred = ada.predict_proba(X_test)\n",
    "    \n",
    "    print(\n",
    "        'AdaBoost roc-auc: {}'.format(roc_auc_score(y_test, pred[:, 1])))\n",
    "    \n",
    "    y_pred=ada.predict(X_test)\n",
    "    print('accuracy_score: ',accuracy_score(y_test,y_pred))\n",
    "    return roc_auc_score(y_test, pred[:, 1])"
   ]
  },
  {
   "cell_type": "code",
   "execution_count": 60,
   "id": "123f96f2",
   "metadata": {},
   "outputs": [],
   "source": [
    "# function to train random forests and evaluate the ensemble performance\n",
    "\n",
    "def run_ensemble(ensemble, X_train, X_test, y_train, y_test):\n",
    "    \n",
    "    ensemble.fit(X_train, y_train)\n",
    "\n",
    "    print('Train set')\n",
    "    pred = ensemble.predict_proba(X_train)\n",
    "    print(\n",
    "        'ensembleBoost roc-auc: {}'.format(roc_auc_score(y_train, pred[:, 1])))\n",
    "\n",
    "    print('Test set')\n",
    "    pred = ensemble.predict_proba(X_test)\n",
    "    \n",
    "    print(\n",
    "        'ensembleBoost roc-auc: {}'.format(roc_auc_score(y_test, pred[:, 1])))\n",
    "    y_pred=ensemble.predict(X_test)\n",
    "    print('accuracy_score: ',accuracy_score(y_test,y_pred))\n",
    "    return roc_auc_score(y_test, pred[:, 1])"
   ]
  },
  {
   "cell_type": "code",
   "execution_count": 61,
   "id": "be9fdfc2",
   "metadata": {},
   "outputs": [
    {
     "data": {
      "text/plain": [
       "array([[ 58.,   8.,   0.,   3.,   0.,   5.,   0., 261.,   1.,   0.],\n",
       "       [ 44.,   4.,   2.,   1.,   0.,   5.,   0., 151.,   1.,   0.]])"
      ]
     },
     "execution_count": 61,
     "metadata": {},
     "output_type": "execute_result"
    }
   ],
   "source": [
    "X[:2] "
   ]
  },
  {
   "cell_type": "code",
   "execution_count": 62,
   "id": "a1d0cb12",
   "metadata": {},
   "outputs": [
    {
     "data": {
      "text/plain": [
       "array([0, 0], dtype=int64)"
      ]
     },
     "execution_count": 62,
     "metadata": {},
     "output_type": "execute_result"
    }
   ],
   "source": [
    "y[:2]"
   ]
  },
  {
   "cell_type": "code",
   "execution_count": 63,
   "id": "ee7fdbbf",
   "metadata": {},
   "outputs": [
    {
     "name": "stdout",
     "output_type": "stream",
     "text": [
      "Train set\n",
      "Random Forests roc-auc: 0.8882012680845536\n",
      "Test set\n",
      "Random Forests roc-auc: 0.8859744558146632\n",
      "accuracy_score:  0.8840141572039523\n",
      "\n",
      "Train set\n",
      "AdaBoost roc-auc: 0.8990163362480768\n",
      "Test set\n",
      "AdaBoost roc-auc: 0.8943861989310329\n",
      "accuracy_score:  0.8936734994838519\n",
      "\n",
      "smote\n",
      "Train set\n",
      "Random Forests roc-auc: 0.8819746544701496\n",
      "Test set\n",
      "Random Forests roc-auc: 0.8576742136329494\n",
      "accuracy_score:  0.702772452440643\n",
      "\n",
      "balancedRF\n",
      "Train set\n",
      "ensembleBoost roc-auc: 0.898320945862791\n",
      "Test set\n",
      "ensembleBoost roc-auc: 0.8976160689737731\n",
      "accuracy_score:  0.8081403922725262\n",
      "\n",
      "bagging\n",
      "Train set\n",
      "ensembleBoost roc-auc: 0.8925630144757251\n",
      "Test set\n",
      "ensembleBoost roc-auc: 0.892243344607083\n",
      "accuracy_score:  0.8921250553015779\n",
      "\n",
      "balancedbagging\n"
     ]
    },
    {
     "name": "stderr",
     "output_type": "stream",
     "text": [
      "C:\\Users\\DELL\\anaconda3\\lib\\site-packages\\imblearn\\ensemble\\_bagging.py:353: FutureWarning: `base_estimator` was renamed to `estimator` in version 0.10 and will be removed in 0.12.\n",
      "  warnings.warn(\n"
     ]
    },
    {
     "name": "stdout",
     "output_type": "stream",
     "text": [
      "Train set\n",
      "ensembleBoost roc-auc: 0.8928496897771644\n",
      "Test set\n",
      "ensembleBoost roc-auc: 0.8923606863174567\n",
      "accuracy_score:  0.812195841321339\n",
      "\n",
      "easyEnsemble\n",
      "Train set\n",
      "ensembleBoost roc-auc: 0.9101868361540006\n",
      "Test set\n",
      "ensembleBoost roc-auc: 0.9070042214074954\n",
      "accuracy_score:  0.8405102492257779\n",
      "\n"
     ]
    }
   ],
   "source": [
    "# to save the results\n",
    "results_dict = {}\n",
    "\n",
    "# separate train and test\n",
    "X_train, X_test, y_train, y_test = train_test_split(\n",
    "X,  \n",
    "y, \n",
    "test_size=0.3,\n",
    "random_state=0)\n",
    "\n",
    "# we set variables in the same scale\n",
    "scaler = StandardScaler().fit(X_train)\n",
    "X_train = scaler.transform(X_train)\n",
    "X_test = scaler.transform(X_test)\n",
    "\n",
    "# train model and store result\n",
    "roc = run_randomForests(X_train, X_test, y_train, y_test)\n",
    "results_dict['full_data'] = roc\n",
    "print()\n",
    "\n",
    "# train model and store result\n",
    "roc = run_adaboost(X_train, X_test, y_train, y_test)\n",
    "results_dict['full_data_adaboost'] = roc\n",
    "print()\n",
    "\n",
    "for sampler in resampling_dict.keys():\n",
    "\n",
    "    print(sampler)\n",
    "\n",
    "    # resampling the train_set using SMOTE\n",
    "    X_resampled, y_resampled = resampling_dict[sampler].fit_resample(X_train, y_train)\n",
    "\n",
    "    # train model and store result\n",
    "    roc = run_randomForests(X_resampled, X_test, y_resampled, y_test)\n",
    "    results_dict[sampler] = roc\n",
    "    print()\n",
    "\n",
    "for ensemble in ensemble_dict.keys():\n",
    "\n",
    "    print(ensemble)\n",
    "\n",
    "    # train model and store result\n",
    "    roc = run_ensemble(ensemble_dict[ensemble], X_train, X_test, y_train, y_test)\n",
    "    results_dict[ensemble] = roc\n",
    "    print()\n",
    "        "
   ]
  },
  {
   "cell_type": "code",
   "execution_count": 65,
   "id": "9b11b7c6",
   "metadata": {},
   "outputs": [
    {
     "name": "stdout",
     "output_type": "stream",
     "text": [
      "                             train_set roc-auc  test_set roc-auc  accuracy\n",
      "logistic_regression_smote        0.90              0.89            0.81\n",
      "logistic_regression_smoteenn     0.90              0.89            0.82\n",
      "logistic_regression_smotetomek   0.90              0.89            0.81\n",
      "decision_tree_smote           OV-0.99              0.68            0.87\n",
      "decision_tree_smote              0.94              0.86            0.84   hyperparameter_tuned \n",
      "decision_tree_smoteenn           0.95              0.86            0.85   hyperparameter_tuned \n",
      "decision_tree_smotetomek         0.95              0.85            0.84   hyperparameter_tuned \n",
      "random_forest_smote              0.96              0.89            0.84   hyperparameter_tuned \n",
      "random_forest_smoteenn           0.96              0.89            0.84   hyperparameter_tuned \n",
      "random_forest_smotetomek         0.96              0.89            0.84   hyperparameter_tuned \n"
     ]
    }
   ],
   "source": [
    "print('                             train_set roc-auc  test_set roc-auc  accuracy')\n",
    "print('logistic_regression_smote','       0.90','             0.89','           0.81')\n",
    "print('logistic_regression_smoteenn','    0.90','             0.89','           0.82')\n",
    "print('logistic_regression_smotetomek','  0.90','             0.89','           0.81')\n",
    "print('decision_tree_smote','          OV-0.99','             0.68','           0.87')\n",
    "print('decision_tree_smote','             0.94','             0.86','           0.84','  hyperparameter_tuned ')\n",
    "print('decision_tree_smoteenn','          0.95','             0.86','           0.85','  hyperparameter_tuned ')\n",
    "print('decision_tree_smotetomek','        0.95','             0.85','           0.84','  hyperparameter_tuned ')\n",
    "print('random_forest_smote','             0.96','             0.89','           0.84','  hyperparameter_tuned ')\n",
    "print('random_forest_smoteenn','          0.96','             0.89','           0.84','  hyperparameter_tuned ')\n",
    "print('random_forest_smotetomek','        0.96','             0.89','           0.84','  hyperparameter_tuned ')"
   ]
  },
  {
   "cell_type": "code",
   "execution_count": null,
   "id": "85c2d6e5",
   "metadata": {},
   "outputs": [],
   "source": []
  }
 ],
 "metadata": {
  "kernelspec": {
   "display_name": "Python 3 (ipykernel)",
   "language": "python",
   "name": "python3"
  },
  "language_info": {
   "codemirror_mode": {
    "name": "ipython",
    "version": 3
   },
   "file_extension": ".py",
   "mimetype": "text/x-python",
   "name": "python",
   "nbconvert_exporter": "python",
   "pygments_lexer": "ipython3",
   "version": "3.9.12"
  }
 },
 "nbformat": 4,
 "nbformat_minor": 5
}
